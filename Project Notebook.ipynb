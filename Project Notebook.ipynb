{
 "cells": [
  {
   "cell_type": "markdown",
   "metadata": {},
   "source": [
    "# Final Project: Astro-Bot\n",
    "\n",
    "### Objective:\n",
    "\n",
    "This bot is designed to tell you your astrology sign through a series of user-inputs. It uses multiple functions, a nested function, and a variety of if/elif/else statements. Each function serves a unique purpose in the bot. It uses a variety of while loops to retain correct user input and offers a quit function to exit the bot.\n",
    "\n",
    "To begin, run the two code cells below.\n"
   ]
  },
  {
   "cell_type": "code",
   "execution_count": 19,
   "metadata": {},
   "outputs": [],
   "source": [
    "from my_module import functions"
   ]
  },
  {
   "cell_type": "code",
   "execution_count": null,
   "metadata": {},
   "outputs": [],
   "source": [
    "functions.run_bot()"
   ]
  },
  {
   "cell_type": "markdown",
   "metadata": {},
   "source": [
    "I feel that my project goes above and beyond the minimal project requirements. With this class being my first time ever coding, I wanted to learn a lot about what I could do with python. Two things that I wanted to go in depth on were nested functions and while loops. Upon research and discussion with my friends, I felt that I could incorporate both unique elements to my project. Nested functions are interesting to me because they utilized a function within another function (I thought it was super interesting because it seemed similar to Class structure but also different at the same time). I added one of these in my main function along with a while loop to access values in a variety of dictionaries. In addition, I utilized while loops to verify specific string values. If the string value was not recognized, it would ask for a valid value to continue the function of the bot. I think that this was a valuable piece of information because my bot was able to only take into account specific strings and reject any other types while still prompting for a correct string value. I felt that while loops were super interesting to learn because they would continue forever until a specific value/instance was met, and with my bot, I only wanted specific strings."
   ]
  },
  {
   "cell_type": "code",
   "execution_count": null,
   "metadata": {},
   "outputs": [],
   "source": []
  }
 ],
 "metadata": {
  "kernelspec": {
   "display_name": "Python 3",
   "language": "python",
   "name": "python3"
  },
  "language_info": {
   "codemirror_mode": {
    "name": "ipython",
    "version": 3
   },
   "file_extension": ".py",
   "mimetype": "text/x-python",
   "name": "python",
   "nbconvert_exporter": "python",
   "pygments_lexer": "ipython3",
   "version": "3.6.7"
  }
 },
 "nbformat": 4,
 "nbformat_minor": 2
}
